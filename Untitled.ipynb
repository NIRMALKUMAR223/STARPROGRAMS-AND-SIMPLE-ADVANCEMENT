{
 "cells": [
  {
   "cell_type": "code",
   "execution_count": 69,
   "id": "64d56abf",
   "metadata": {},
   "outputs": [
    {
     "name": "stdout",
     "output_type": "stream",
     "text": [
      "121\n"
     ]
    }
   ],
   "source": [
    "print((10**2//9)**2)\n"
   ]
  },
  {
   "cell_type": "code",
   "execution_count": 35,
   "id": "94d15036",
   "metadata": {},
   "outputs": [
    {
     "name": "stdout",
     "output_type": "stream",
     "text": [
      "12\n",
      "1\n"
     ]
    }
   ],
   "source": [
    "n=123\n",
    "op=n//10\n",
    "print(op)\n",
    "ui=op//10\n",
    "print(ui)"
   ]
  },
  {
   "cell_type": "code",
   "execution_count": 41,
   "id": "4039d73d",
   "metadata": {},
   "outputs": [
    {
     "name": "stdout",
     "output_type": "stream",
     "text": [
      "*      *\n",
      "**     *\n",
      "* *    *\n",
      "*  *   *\n",
      "*   *  *\n",
      "*    * *\n",
      "*     **\n",
      "*      *\n"
     ]
    }
   ],
   "source": [
    "n=8\n",
    "for i in range(n):\n",
    "    for j in range(n):\n",
    "        if j==n-1  or (i==j or j==0):\n",
    "            print(\"*\",end=\"\")\n",
    "        else:\n",
    "            print(\" \",end=\"\")\n",
    "    print()"
   ]
  },
  {
   "cell_type": "code",
   "execution_count": 171,
   "id": "4fdd431e",
   "metadata": {},
   "outputs": [
    {
     "name": "stdout",
     "output_type": "stream",
     "text": [
      "*********\n",
      "    *    \n",
      "    *    \n",
      "    *    \n",
      "    *    \n",
      "    *    \n",
      "    *    \n",
      "****     \n"
     ]
    }
   ],
   "source": [
    "n=8\n",
    "for i in range(n):\n",
    "    for j in range(n+1):\n",
    "        if i==0 or (j==n//2 and i!=n-1 )or ( i==n-1 and j<n//2 ):\n",
    "            print(\"*\",end=\"\")\n",
    "        else:\n",
    "            print(\" \",end=\"\")\n",
    "    print()"
   ]
  },
  {
   "cell_type": "code",
   "execution_count": 154,
   "id": "2c690c08",
   "metadata": {},
   "outputs": [
    {
     "name": "stdout",
     "output_type": "stream",
     "text": [
      "******** \n",
      "*       *\n",
      "*       *\n",
      "*       *\n",
      "******** \n",
      "*       *\n",
      "*       *\n",
      "*       *\n",
      "******** \n"
     ]
    }
   ],
   "source": [
    "n=8\n",
    "for i in range(n+1):\n",
    "    for j in range(n+1):\n",
    "        if (j==n and i!=0 and i!=n//2 and i!=n) or (i==n//2 and j!=n) or ((i==0 and j!=n) or j==0) or i==n and j!=n:\n",
    "            print(\"*\",end=\"\")\n",
    "        else:\n",
    "            print(\" \",end=\"\")\n",
    "    print()"
   ]
  },
  {
   "cell_type": "code",
   "execution_count": 178,
   "id": "e30a45cb",
   "metadata": {},
   "outputs": [
    {
     "name": "stdout",
     "output_type": "stream",
     "text": [
      " ******* \n",
      "*       *\n",
      "*       *\n",
      "*       *\n",
      "*********\n",
      "*       *\n",
      "*       *\n",
      "*       *\n",
      "*       *\n"
     ]
    }
   ],
   "source": [
    "n=8\n",
    "for i in range(n+1):\n",
    "    for j in range(n+1):\n",
    "        if (i==0 and j!=0 and j!=n)or (j==0 and i!=0)or (j==n and i!=0) or i==n//2:\n",
    "            print(\"*\",end=\"\")\n",
    "        else:\n",
    "            print(\" \",end=\"\")\n",
    "    print()"
   ]
  },
  {
   "cell_type": "code",
   "execution_count": 185,
   "id": "bd00d427",
   "metadata": {},
   "outputs": [
    {
     "name": "stdout",
     "output_type": "stream",
     "text": [
      " ********\n",
      "*        \n",
      "*        \n",
      "*        \n",
      "*        \n",
      "*        \n",
      "*        \n",
      "*        \n",
      " ********\n"
     ]
    }
   ],
   "source": [
    "n=8\n",
    "for i in range(n+1):\n",
    "    for j in range(n+1):\n",
    "        if (i==0 and j!=0) or (i==n and j!=0) or (j==0 and i!=0 and i!=n):\n",
    "            print(\"*\",end=\"\")\n",
    "        else:\n",
    "            print(\" \",end=\"\")\n",
    "    print()"
   ]
  },
  {
   "cell_type": "code",
   "execution_count": 191,
   "id": "27c37c20",
   "metadata": {},
   "outputs": [
    {
     "name": "stdout",
     "output_type": "stream",
     "text": [
      " ******* \n",
      "*       *\n",
      "*       *\n",
      "*       *\n",
      "*       *\n",
      "*       *\n",
      "*       *\n",
      "*       *\n",
      " ******* \n"
     ]
    }
   ],
   "source": [
    "n=8\n",
    "for i in range(n+1):\n",
    "    for j in range(n+1):\n",
    "        if (i==0 and j!=0 and j!=n) or (i==n and j!=0 and j!=n) or (j==0 and i!=0 and i!=n)or (j==n and i!=0 and i!=n):\n",
    "            print(\"*\",end=\"\")\n",
    "        else:\n",
    "            print(\" \",end=\"\")\n",
    "    print()"
   ]
  },
  {
   "cell_type": "code",
   "execution_count": 234,
   "id": "326097b0",
   "metadata": {},
   "outputs": [
    {
     "name": "stdout",
     "output_type": "stream",
     "text": [
      " *********\n",
      "*         \n",
      "*         \n",
      "*         \n",
      "*    *****\n",
      "*        *\n",
      "*        *\n",
      "*        *\n",
      "*        *\n",
      " ******** \n"
     ]
    }
   ],
   "source": [
    "n=9\n",
    "for i in range(n+1):\n",
    "    for j in range(n+1):\n",
    "        if (j==0 and i!=0 and i!=n) or (j==n and i>n//2 and i!=n )or (i==n//2 and j>n//2) or (i==n and j!=0 and j!=n) or (i==0 and j!=0):\n",
    "            print(\"*\",end=\"\")\n",
    "        else:\n",
    "            print(\" \",end=\"\")\n",
    "    print()"
   ]
  },
  {
   "cell_type": "code",
   "execution_count": 264,
   "id": "e55de0c0",
   "metadata": {},
   "outputs": [
    {
     "name": "stdout",
     "output_type": "stream",
     "text": [
      "******** \n",
      "*       *\n",
      "*       *\n",
      "*       *\n",
      "******** \n",
      "*    *   \n",
      "*     *  \n",
      "*      * \n",
      "*       *\n"
     ]
    }
   ],
   "source": [
    "n=8\n",
    "for i in range(n+1):\n",
    "    for j in range(n+1):\n",
    "        if j==0 or (i==0 and j!=n)  or (i==n//2 and j!=n ) or (j==n  and  i!=0 and i<n//2) or (j>n//2 and i==j):\n",
    "            print(\"*\",end=\"\")\n",
    "        else:\n",
    "            print(\" \",end=\"\")\n",
    "    print()"
   ]
  },
  {
   "cell_type": "code",
   "execution_count": 290,
   "id": "1d2e9912",
   "metadata": {},
   "outputs": [
    {
     "name": "stdout",
     "output_type": "stream",
     "text": [
      "*      * \n",
      "*     *  \n",
      "*    *   \n",
      "*   *    \n",
      "*   *    \n",
      "*    *   \n",
      "*     *  \n",
      "*      * \n",
      "*       *\n"
     ]
    }
   ],
   "source": [
    "n=8\n",
    "for i in range(n+1):\n",
    "    for j in range(n+1):\n",
    "        if j==0 or (i>0 and i>=n//2 and i==j)or (i+j==n-1 and  i<n//2):\n",
    "            print(\"*\",end=\"\")\n",
    "        else:\n",
    "            print(\" \",end=\"\")\n",
    "    print()"
   ]
  },
  {
   "cell_type": "code",
   "execution_count": 308,
   "id": "62d7581a",
   "metadata": {},
   "outputs": [
    {
     "name": "stdout",
     "output_type": "stream",
     "text": [
      " **********\n",
      "*          \n",
      "*          \n",
      "*          \n",
      "*          \n",
      " ********* \n",
      "          *\n",
      "          *\n",
      "          *\n",
      "          *\n",
      "********** \n"
     ]
    }
   ],
   "source": [
    "n=10\n",
    "for i in range(n+1):\n",
    "    for j in range(n+1):\n",
    "        if (i==0 and j!=0)or (j==0 and i!=0 and i<n//2) or (i==n//2 and j!=n and j!=0) or (j==n and i>n//2 and i!=n) or (i==n and j!=n):\n",
    "            print(\"*\",end=\"\")\n",
    "        else:\n",
    "            print(\" \",end=\"\")\n",
    "    print()"
   ]
  },
  {
   "cell_type": "code",
   "execution_count": 348,
   "id": "ab6cc064",
   "metadata": {},
   "outputs": [
    {
     "name": "stdout",
     "output_type": "stream",
     "text": [
      "*         *\n",
      " *       * \n",
      "  *     *  \n",
      "   *   *   \n",
      "    * *    \n",
      "     *     \n",
      "    * *    \n",
      "   *   *   \n",
      "  *     *  \n",
      " *       * \n",
      "*         *\n"
     ]
    }
   ],
   "source": [
    "n=10\n",
    "for i in range(n+1):\n",
    "    for j in range(n+1):\n",
    "        if i==j or i+j==n:\n",
    "            print(\"*\",end=\"\")\n",
    "        else:\n",
    "            print(\" \",end=\"\")\n",
    "    print()"
   ]
  },
  {
   "cell_type": "code",
   "execution_count": 364,
   "id": "42f01d2d",
   "metadata": {},
   "outputs": [
    {
     "name": "stdout",
     "output_type": "stream",
     "text": [
      "*       *\n",
      "*       *\n",
      "*       *\n",
      "*       *\n",
      "*   *   *\n",
      "*  * *  *\n",
      "* *   * *\n",
      "**     **\n",
      "*       *\n"
     ]
    }
   ],
   "source": [
    "n=8\n",
    "for i in range(n+1):\n",
    "    for j in range(n+1):\n",
    "        if j==0 or j==n or (i>n//2 and i==j) or (i>=n//2 and i+j==n) :\n",
    "            print(\"*\",end=\"\")\n",
    "        else:\n",
    "            print(\" \",end=\"\")\n",
    "    print()"
   ]
  },
  {
   "cell_type": "code",
   "execution_count": 383,
   "id": "b037cb8a",
   "metadata": {},
   "outputs": [
    {
     "name": "stdout",
     "output_type": "stream",
     "text": [
      "*       *\n",
      "**     **\n",
      "* *   * *\n",
      "*  * *  *\n",
      "*   *   *\n",
      "*       *\n",
      "*       *\n",
      "*       *\n",
      "*       *\n"
     ]
    }
   ],
   "source": [
    "n=8\n",
    "for i in range(n+1):\n",
    "    for j in range(n+1):\n",
    "        if j==0 or j==n or (i<=n//2 and i+j==n) or (i<n//2 and i==j) :\n",
    "            print(\"*\",end=\"\")\n",
    "        else:\n",
    "            print(\" \",end=\"\")\n",
    "    print()"
   ]
  },
  {
   "cell_type": "code",
   "execution_count": 384,
   "id": "c338a4fe",
   "metadata": {},
   "outputs": [
    {
     "name": "stdout",
     "output_type": "stream",
     "text": [
      "*********\n",
      "       * \n",
      "      *  \n",
      "     *   \n",
      "    *    \n",
      "   *     \n",
      "  *      \n",
      " *       \n",
      "*********\n"
     ]
    }
   ],
   "source": [
    "n=8\n",
    "for i in range(n+1):\n",
    "    for j in range(n+1):\n",
    "        if i==0 or i+j==n or i==n :\n",
    "            print(\"*\",end=\"\")\n",
    "        else:\n",
    "            print(\" \",end=\"\")\n",
    "    print()"
   ]
  },
  {
   "cell_type": "code",
   "execution_count": 387,
   "id": "af3ecb20",
   "metadata": {},
   "outputs": [
    {
     "name": "stdout",
     "output_type": "stream",
     "text": [
      "*       *\n",
      " *     * \n",
      "  *   *  \n",
      "   * *   \n",
      "    *    \n",
      "   *     \n",
      "  *      \n",
      " *       \n",
      "*        \n"
     ]
    }
   ],
   "source": [
    "n=8\n",
    "for i in range(n+1):\n",
    "    for j in range(n+1):\n",
    "        if i+j==n or (i<n//2 and i==j):\n",
    "            print(\"*\",end=\"\")\n",
    "        else:\n",
    "            print(\" \",end=\"\")\n",
    "    print()"
   ]
  },
  {
   "cell_type": "code",
   "execution_count": 396,
   "id": "0116fa3f",
   "metadata": {},
   "outputs": [
    {
     "name": "stdout",
     "output_type": "stream",
     "text": [
      "*       *\n",
      "*       *\n",
      "*       *\n",
      "*       *\n",
      "*       *\n",
      "*       *\n",
      "      *  \n",
      "       * \n",
      "        *\n"
     ]
    }
   ],
   "source": [
    "n=8\n",
    "for i in range(n+1):\n",
    "    for j in range(n+1):\n",
    "        if (j==0 and i<n//2+2) or (j==n and i<n//2+2) or (i>=n//2+2 and i==j):\n",
    "            print(\"*\",end=\"\")\n",
    "        else:\n",
    "            print(\" \",end=\"\")\n",
    "    print()"
   ]
  },
  {
   "cell_type": "code",
   "execution_count": null,
   "id": "e53bb657",
   "metadata": {},
   "outputs": [],
   "source": []
  }
 ],
 "metadata": {
  "kernelspec": {
   "display_name": "Python 3 (ipykernel)",
   "language": "python",
   "name": "python3"
  },
  "language_info": {
   "codemirror_mode": {
    "name": "ipython",
    "version": 3
   },
   "file_extension": ".py",
   "mimetype": "text/x-python",
   "name": "python",
   "nbconvert_exporter": "python",
   "pygments_lexer": "ipython3",
   "version": "3.10.9"
  }
 },
 "nbformat": 4,
 "nbformat_minor": 5
}
